{
 "cells": [
  {
   "cell_type": "code",
   "execution_count": 1,
   "id": "5e0d0f6c-f787-4239-a38b-249350982097",
   "metadata": {},
   "outputs": [
    {
     "name": "stdout",
     "output_type": "stream",
     "text": [
      "Heramb\n"
     ]
    }
   ],
   "source": [
    "print('Heramb')"
   ]
  },
  {
   "cell_type": "code",
   "execution_count": 2,
   "id": "5b9037a7-5545-4fdd-be35-551ea7d92483",
   "metadata": {},
   "outputs": [
    {
     "name": "stdout",
     "output_type": "stream",
     "text": [
      "Hii heramb are you doing good\n"
     ]
    }
   ],
   "source": [
    "print(\"Hii heramb are you doing good\")"
   ]
  },
  {
   "cell_type": "code",
   "execution_count": 5,
   "id": "bb15f927-94f9-4123-808b-e58fae040336",
   "metadata": {},
   "outputs": [
    {
     "name": "stdout",
     "output_type": "stream",
     "text": [
      "heramb you are fine\"\n",
      "superb \n"
     ]
    }
   ],
   "source": [
    "print(\"\"\"heramb you are fine  \n",
    "superb \"\"\")"
   ]
  },
  {
   "cell_type": "code",
   "execution_count": 10,
   "id": "26aa0173-1822-42be-8475-a466952c6a56",
   "metadata": {},
   "outputs": [
    {
     "data": {
      "text/plain": [
       "(1, 2, 3)"
      ]
     },
     "execution_count": 10,
     "metadata": {},
     "output_type": "execute_result"
    }
   ],
   "source": [
    "car = (1,2,3)\n",
    "car"
   ]
  },
  {
   "cell_type": "code",
   "execution_count": 12,
   "id": "937fcd50-65e8-4e46-b604-2452b6698d27",
   "metadata": {},
   "outputs": [
    {
     "data": {
      "text/plain": [
       "tuple"
      ]
     },
     "execution_count": 12,
     "metadata": {},
     "output_type": "execute_result"
    }
   ],
   "source": [
    "type(car)"
   ]
  },
  {
   "cell_type": "code",
   "execution_count": 14,
   "id": "a34072bc-1e50-4d8c-b37d-29e4f191e578",
   "metadata": {},
   "outputs": [
    {
     "data": {
      "text/plain": [
       "'john'"
      ]
     },
     "execution_count": 14,
     "metadata": {},
     "output_type": "execute_result"
    }
   ],
   "source": [
    "a = (\"john\")\n",
    "a"
   ]
  },
  {
   "cell_type": "code",
   "execution_count": 15,
   "id": "de584835-3dae-4973-8bca-811a28e9150b",
   "metadata": {},
   "outputs": [
    {
     "ename": "NameError",
     "evalue": "name 'JOHN' is not defined",
     "output_type": "error",
     "traceback": [
      "\u001b[1;31m---------------------------------------------------------------------------\u001b[0m",
      "\u001b[1;31mNameError\u001b[0m                                 Traceback (most recent call last)",
      "Cell \u001b[1;32mIn[15], line 1\u001b[0m\n\u001b[1;32m----> 1\u001b[0m \u001b[38;5;28mprint\u001b[39m(\u001b[43mJOHN\u001b[49m)\n",
      "\u001b[1;31mNameError\u001b[0m: name 'JOHN' is not defined"
     ]
    }
   ],
   "source": [
    "#python is case sensitive language ; take care of upper & respective lower case.\n",
    "print(JOHN)"
   ]
  },
  {
   "cell_type": "markdown",
   "id": "83cdfdfc-1320-4663-a685-2ce674147e51",
   "metadata": {},
   "source": [
    "# USER INPUT"
   ]
  },
  {
   "cell_type": "code",
   "execution_count": 18,
   "id": "51b74411-085c-435a-916c-109d6fe6eb78",
   "metadata": {},
   "outputs": [
    {
     "name": "stdin",
     "output_type": "stream",
     "text": [
      "enter your name\n",
      "enter your age 2\n"
     ]
    },
    {
     "data": {
      "text/plain": [
       "'2'"
      ]
     },
     "execution_count": 18,
     "metadata": {},
     "output_type": "execute_result"
    }
   ],
   "source": [
    "name = input(\"\"\"enter your name,\n",
    "enter your age\"\"\")\n",
    "name"
   ]
  },
  {
   "cell_type": "code",
   "execution_count": 20,
   "id": "5bbbb0eb-a58f-485c-8e73-684850811e13",
   "metadata": {},
   "outputs": [
    {
     "name": "stdin",
     "output_type": "stream",
     "text": [
      "Enter your name 21\n"
     ]
    },
    {
     "data": {
      "text/plain": [
       "21"
      ]
     },
     "execution_count": 20,
     "metadata": {},
     "output_type": "execute_result"
    }
   ],
   "source": [
    "name = int(input(\"Enter your name\"))\n",
    "name"
   ]
  },
  {
   "cell_type": "code",
   "execution_count": 21,
   "id": "1566547f-dbd3-4854-bd47-5d4378551f52",
   "metadata": {},
   "outputs": [
    {
     "name": "stdin",
     "output_type": "stream",
     "text": [
      "Enter your name 21.5\n"
     ]
    },
    {
     "data": {
      "text/plain": [
       "21.5"
      ]
     },
     "execution_count": 21,
     "metadata": {},
     "output_type": "execute_result"
    }
   ],
   "source": [
    "name = float(input(\"Enter your name\"))\n",
    "name"
   ]
  },
  {
   "cell_type": "code",
   "execution_count": 22,
   "id": "4dd842d5-169b-4aa3-9319-79e05d8b8c10",
   "metadata": {},
   "outputs": [
    {
     "name": "stdin",
     "output_type": "stream",
     "text": [
      "Enter your name 1+2j\n"
     ]
    }
   ],
   "source": [
    "name = complex(input(\"Enter your name\"))"
   ]
  },
  {
   "cell_type": "markdown",
   "id": "e33c40fc-7aa7-414a-aabe-f2ba9a832e1d",
   "metadata": {},
   "source": [
    "TYPECASTING"
   ]
  },
  {
   "cell_type": "code",
   "execution_count": 23,
   "id": "d0a05ea8-d01a-4df7-a304-24233632a854",
   "metadata": {},
   "outputs": [
    {
     "data": {
      "text/plain": [
       "'heramb'"
      ]
     },
     "execution_count": 23,
     "metadata": {},
     "output_type": "execute_result"
    }
   ],
   "source": [
    "name = \"heramb\"\n",
    "name"
   ]
  },
  {
   "cell_type": "code",
   "execution_count": 24,
   "id": "63e834f7-d2c7-4b1a-86b6-119ec02dfcef",
   "metadata": {},
   "outputs": [
    {
     "data": {
      "text/plain": [
       "str"
      ]
     },
     "execution_count": 24,
     "metadata": {},
     "output_type": "execute_result"
    }
   ],
   "source": [
    "type(name)"
   ]
  },
  {
   "cell_type": "code",
   "execution_count": 25,
   "id": "b4d26d1d-1350-45f6-ba70-ad9e655d074f",
   "metadata": {},
   "outputs": [
    {
     "data": {
      "text/plain": [
       "21"
      ]
     },
     "execution_count": 25,
     "metadata": {},
     "output_type": "execute_result"
    }
   ],
   "source": [
    "age = 21\n",
    "age"
   ]
  },
  {
   "cell_type": "code",
   "execution_count": 26,
   "id": "614937b1-432e-406f-b1d2-8f40481e06fc",
   "metadata": {},
   "outputs": [
    {
     "data": {
      "text/plain": [
       "int"
      ]
     },
     "execution_count": 26,
     "metadata": {},
     "output_type": "execute_result"
    }
   ],
   "source": [
    "type(age)"
   ]
  },
  {
   "cell_type": "code",
   "execution_count": 29,
   "id": "42c0221d-7d15-40bb-bc5d-08afd4b974d0",
   "metadata": {},
   "outputs": [
    {
     "data": {
      "text/plain": [
       "(1, 3)"
      ]
     },
     "execution_count": 29,
     "metadata": {},
     "output_type": "execute_result"
    }
   ],
   "source": [
    "a = 1\n",
    "b = 3\n",
    "a,b\n"
   ]
  },
  {
   "cell_type": "code",
   "execution_count": 31,
   "id": "70e1844c-40dc-43b6-97bb-005b2259d863",
   "metadata": {},
   "outputs": [
    {
     "data": {
      "text/plain": [
       "int"
      ]
     },
     "execution_count": 31,
     "metadata": {},
     "output_type": "execute_result"
    }
   ],
   "source": [
    "type(a)"
   ]
  },
  {
   "cell_type": "code",
   "execution_count": 32,
   "id": "7936b3cd-17da-4599-8d97-c0f0b6e2bc3e",
   "metadata": {},
   "outputs": [
    {
     "data": {
      "text/plain": [
       "1.23"
      ]
     },
     "execution_count": 32,
     "metadata": {},
     "output_type": "execute_result"
    }
   ],
   "source": [
    "a = 1.23\n",
    "a"
   ]
  },
  {
   "cell_type": "code",
   "execution_count": 33,
   "id": "b2d492a9-403e-4c20-b912-c9302a61ea8a",
   "metadata": {},
   "outputs": [
    {
     "data": {
      "text/plain": [
       "float"
      ]
     },
     "execution_count": 33,
     "metadata": {},
     "output_type": "execute_result"
    }
   ],
   "source": [
    "type(a)"
   ]
  },
  {
   "cell_type": "code",
   "execution_count": 34,
   "id": "a63eadfc-0fee-484b-a51d-5da30139f36b",
   "metadata": {},
   "outputs": [
    {
     "data": {
      "text/plain": [
       "1"
      ]
     },
     "execution_count": 34,
     "metadata": {},
     "output_type": "execute_result"
    }
   ],
   "source": [
    "a = int(a)\n",
    "a"
   ]
  },
  {
   "cell_type": "code",
   "execution_count": 35,
   "id": "deb56f00-58e6-4ce6-886f-fc56f1661776",
   "metadata": {},
   "outputs": [
    {
     "data": {
      "text/plain": [
       "int"
      ]
     },
     "execution_count": 35,
     "metadata": {},
     "output_type": "execute_result"
    }
   ],
   "source": [
    "type(a)"
   ]
  },
  {
   "cell_type": "markdown",
   "id": "f3ecd8fc-3f60-4cb2-ac8f-f6819eb977f5",
   "metadata": {},
   "source": [
    "Problem solving "
   ]
  },
  {
   "cell_type": "code",
   "execution_count": 5,
   "id": "f570b637-7cc5-4903-b831-8093f0543988",
   "metadata": {},
   "outputs": [
    {
     "name": "stdin",
     "output_type": "stream",
     "text": [
      "enter your name Heramb\n",
      "enter your address Wagholi,Pune\n",
      "enter your age 21\n"
     ]
    },
    {
     "name": "stdout",
     "output_type": "stream",
     "text": [
      "Heramb\n",
      "Wagholi,Pune\n",
      "21 years\n"
     ]
    }
   ],
   "source": [
    "name=input(\"enter your name\")\n",
    "address=input(\"enter your address\")\n",
    "age=int(input(\"enter your age\"))\n",
    "print(name)\n",
    "print(address)\n",
    "print(age,\"years\")\n"
   ]
  },
  {
   "cell_type": "code",
   "execution_count": 39,
   "id": "66c8afe9-b10c-4acc-9bed-1bc7bdf2a71d",
   "metadata": {},
   "outputs": [
    {
     "name": "stdout",
     "output_type": "stream",
     "text": [
      "30 45\n"
     ]
    }
   ],
   "source": [
    "a=30\n",
    "b=45\n",
    "a,b=b,a\n",
    "print(b,a)"
   ]
  },
  {
   "cell_type": "code",
   "execution_count": 15,
   "id": "4f43c553-4f12-4e62-ae23-a4f3ae07c934",
   "metadata": {},
   "outputs": [
    {
     "name": "stdin",
     "output_type": "stream",
     "text": [
      "enter an number 2.5\n"
     ]
    },
    {
     "name": "stdout",
     "output_type": "stream",
     "text": [
      "2\n"
     ]
    }
   ],
   "source": [
    "i1=float(input(\"enter an number\"))\n",
    "i2=int(i1)\n",
    "print(i2)"
   ]
  },
  {
   "cell_type": "code",
   "execution_count": 33,
   "id": "391c8f75-4160-49c4-afe0-3da6015b4160",
   "metadata": {},
   "outputs": [
    {
     "name": "stdin",
     "output_type": "stream",
     "text": [
      "enter your name h\n",
      "enter your address w\n",
      "enter your age 21\n"
     ]
    },
    {
     "name": "stdout",
     "output_type": "stream",
     "text": [
      "ID CARD\n",
      "Name h\n",
      "Address w\n",
      "Age 21 years\n"
     ]
    }
   ],
   "source": [
    "ID = (\"ID CARD\")\n",
    "Name=input(\"enter your name\")\n",
    "Address=input(\"enter your address\")\n",
    "age=int(input(\"enter your age\"))\n",
    "print(ID)\n",
    "print(\"Name\",Name)\n",
    "print(\"Address\",Address)\n",
    "print(\"Age\",age,\"years\")"
   ]
  },
  {
   "cell_type": "code",
   "execution_count": 34,
   "id": "86b20bc2-626e-4261-959b-188e36af0b6d",
   "metadata": {},
   "outputs": [
    {
     "name": "stdin",
     "output_type": "stream",
     "text": [
      "enter an number 3\n"
     ]
    },
    {
     "name": "stdout",
     "output_type": "stream",
     "text": [
      "3.0\n"
     ]
    }
   ],
   "source": [
    "i1=int(input(\"enter an number\"))\n",
    "i2=float(i1)\n",
    "print(i2)"
   ]
  },
  {
   "cell_type": "markdown",
   "id": "19f0038a-ed17-456d-9095-be0c363d3d73",
   "metadata": {},
   "source": [
    "OPERATORS:"
   ]
  },
  {
   "cell_type": "code",
   "execution_count": 46,
   "id": "32dab4a5-4a68-4117-a665-a9172c0ace28",
   "metadata": {},
   "outputs": [
    {
     "name": "stdout",
     "output_type": "stream",
     "text": [
      "6\n",
      "2\n",
      "8\n",
      "2.0\n",
      "0\n",
      "2\n",
      "16\n"
     ]
    }
   ],
   "source": [
    "#1)Arithmetic operators\n",
    "a=4\n",
    "b=2\n",
    "print(a+b)\n",
    "print(a-b)\n",
    "print(a*b)\n",
    "print(a/b)\n",
    "print(a%b)#modulo remainder\n",
    "print(a//b)#floor division\n",
    "print(a**b)"
   ]
  },
  {
   "cell_type": "code",
   "execution_count": 54,
   "id": "1aa9bccb-bf1b-48b5-857e-7eb86d2fad6a",
   "metadata": {},
   "outputs": [
    {
     "name": "stdout",
     "output_type": "stream",
     "text": [
      "True\n",
      "False\n",
      "True\n",
      "False\n",
      "True\n"
     ]
    }
   ],
   "source": [
    "#2)compariosn operator\n",
    "a=4\n",
    "b=2\n",
    "a==b\n",
    "print(a>b)\n",
    "print(a<b)\n",
    "print(a>=b)\n",
    "print(a<=b)\n",
    "print(a!=b)\n"
   ]
  },
  {
   "cell_type": "code",
   "execution_count": 57,
   "id": "47f81c10-cfd5-46b0-9fce-882a43fbe8b3",
   "metadata": {},
   "outputs": [
    {
     "name": "stdout",
     "output_type": "stream",
     "text": [
      "False\n",
      "True\n"
     ]
    },
    {
     "data": {
      "text/plain": [
       "True"
      ]
     },
     "execution_count": 57,
     "metadata": {},
     "output_type": "execute_result"
    }
   ],
   "source": [
    "#3)logical operator\n",
    "a= 3>2\n",
    "b=5>7\n",
    "a and b\n",
    "print(a&b)\n",
    "\n",
    "a or b\n",
    "print(a or b)\n",
    "\n",
    "not(a&b)\n"
   ]
  },
  {
   "cell_type": "code",
   "execution_count": 66,
   "id": "8f176685-c24d-43bf-befd-1278b227000c",
   "metadata": {},
   "outputs": [
    {
     "name": "stdout",
     "output_type": "stream",
     "text": [
      "0\n",
      "10\n",
      "8\n",
      "48\n"
     ]
    }
   ],
   "source": [
    "#4) assignment operator\n",
    "score = 0\n",
    "print(score)\n",
    "score+=10\n",
    "print(score)\n",
    "score-=2\n",
    "print(score)\n",
    "score*=6\n",
    "print(score)"
   ]
  },
  {
   "cell_type": "code",
   "execution_count": 67,
   "id": "a2dfd5ac-e07e-4ff1-b500-a368bc97305c",
   "metadata": {},
   "outputs": [
    {
     "name": "stdout",
     "output_type": "stream",
     "text": [
      "True\n",
      "False\n"
     ]
    }
   ],
   "source": [
    "#5)identity operator\n",
    "a = 234\n",
    "b = 234\n",
    "print(a is b)\n",
    "print(a is not b)"
   ]
  },
  {
   "cell_type": "code",
   "execution_count": 82,
   "id": "9d212540-7665-4d6a-bd93-5b4de3e6b15b",
   "metadata": {},
   "outputs": [
    {
     "name": "stdout",
     "output_type": "stream",
     "text": [
      "0b1000\n",
      "0b1010\n",
      "8\n",
      "10\n",
      "10\n",
      "2\n",
      "2\n",
      "40\n"
     ]
    }
   ],
   "source": [
    "#6)Bitwise operator\n",
    "a=10\n",
    "b=8\n",
    "print(bin(8))\n",
    "print(bin(10))\n",
    "print(a&b) # binary addition\n",
    "print(a|b) # binary substraction\n",
    "print(a or b)\n",
    "print(a^b)\n",
    "print(a>>2)\n",
    "print(a<<2)"
   ]
  },
  {
   "cell_type": "code",
   "execution_count": 86,
   "id": "5c93ec30-ea63-4efb-a12f-530efe9d28b6",
   "metadata": {},
   "outputs": [
    {
     "name": "stdout",
     "output_type": "stream",
     "text": [
      "True\n",
      "False\n"
     ]
    }
   ],
   "source": [
    "#membership operator\n",
    "c= \" elephant\"\n",
    "print(\"e\" in c)\n",
    "print(\"e\" not in c)"
   ]
  },
  {
   "cell_type": "markdown",
   "id": "72d16061-40b7-4515-b885-3b8b3dcf9491",
   "metadata": {},
   "source": [
    "CONDITIONAL STATEMENTS:"
   ]
  },
  {
   "cell_type": "code",
   "execution_count": 96,
   "id": "d7ff7b5e-181f-415b-a4ef-d4b669a76c03",
   "metadata": {},
   "outputs": [
    {
     "name": "stdout",
     "output_type": "stream",
     "text": [
      "thank you\n"
     ]
    }
   ],
   "source": [
    "#1) if the stattement:\n",
    "marks = 75\n",
    "if marks>=80:\n",
    "    print(marks,\"you are good to go\")\n",
    "print(\"thank you\")"
   ]
  },
  {
   "cell_type": "code",
   "execution_count": 99,
   "id": "0aa2dd57-3c3c-42f1-a696-e5683b4f945b",
   "metadata": {},
   "outputs": [
    {
     "name": "stdin",
     "output_type": "stream",
     "text": [
      "enter the marks 75\n"
     ]
    },
    {
     "name": "stdout",
     "output_type": "stream",
     "text": [
      "you get an android phone\n"
     ]
    }
   ],
   "source": [
    "#2)if else statement\n",
    "marks = int(input(\"enter the marks\"))\n",
    "if marks>=80:\n",
    "    print(\"you get an iphone\")\n",
    "else:\n",
    "    print(\"you get an android phone\")"
   ]
  },
  {
   "cell_type": "code",
   "execution_count": 103,
   "id": "bc19ab9d-e7b8-4b0d-8f66-2ec2f4ec5c85",
   "metadata": {},
   "outputs": [
    {
     "name": "stdin",
     "output_type": "stream",
     "text": [
      "enter the marks 76\n"
     ]
    },
    {
     "name": "stdout",
     "output_type": "stream",
     "text": [
      "you get an moped\n"
     ]
    }
   ],
   "source": [
    "# if elif else\n",
    "marks = int(input(\"enter the marks\"))\n",
    "if marks>80:\n",
    "    print(\"you get an iphone\")\n",
    "elif 80>marks>75:\n",
    "    print(\"you get an moped\")\n",
    "else:\n",
    "    print(\"you get an android phone\")"
   ]
  },
  {
   "cell_type": "code",
   "execution_count": 107,
   "id": "9f1f62cb-fcd6-4441-b1b0-3c36093373d1",
   "metadata": {},
   "outputs": [
    {
     "name": "stdin",
     "output_type": "stream",
     "text": [
      "enter the marks 62\n"
     ]
    },
    {
     "name": "stdout",
     "output_type": "stream",
     "text": [
      "average\n"
     ]
    }
   ],
   "source": [
    "# nested if \n",
    "marks = int(input(\"enter the marks\"))\n",
    "if 90>marks>70:\n",
    "    print(\"very good\")\n",
    "if 70>marks>65:\n",
    "    print(\"good\")\n",
    "if 65>marks>50:\n",
    "    print(\"average\")"
   ]
  },
  {
   "cell_type": "code",
   "execution_count": 108,
   "id": "47603825-da55-49db-8ce9-77259d705ba5",
   "metadata": {},
   "outputs": [
    {
     "name": "stdin",
     "output_type": "stream",
     "text": [
      "enter the marks 85\n"
     ]
    },
    {
     "name": "stdout",
     "output_type": "stream",
     "text": [
      "very good\n"
     ]
    }
   ],
   "source": [
    "#short hand if\n",
    "marks = int(input(\"enter the marks\"))\n",
    "if 90>marks>70:print(\"very good\")"
   ]
  },
  {
   "cell_type": "code",
   "execution_count": 109,
   "id": "c381e94f-4439-4596-b66d-6d80da61e0b7",
   "metadata": {},
   "outputs": [
    {
     "name": "stdin",
     "output_type": "stream",
     "text": [
      "enter the marks 76\n"
     ]
    },
    {
     "name": "stdout",
     "output_type": "stream",
     "text": [
      "very good\n"
     ]
    }
   ],
   "source": [
    "#short hand if else statement:\n",
    "marks = int(input(\"enter the marks\"))\n",
    "print(\"very good\")if 90>marks>70 else print(\"good\")"
   ]
  },
  {
   "cell_type": "markdown",
   "id": "73b4a97b-c081-4a30-9902-14bb8b66c853",
   "metadata": {},
   "source": [
    "PROBLEM SOLVING :"
   ]
  },
  {
   "cell_type": "code",
   "execution_count": 110,
   "id": "494d1036-e07d-486f-9672-ccd6d0f48fba",
   "metadata": {},
   "outputs": [
    {
     "name": "stdin",
     "output_type": "stream",
     "text": [
      "enter the number  5\n"
     ]
    },
    {
     "name": "stdout",
     "output_type": "stream",
     "text": [
      "number is positive\n"
     ]
    }
   ],
   "source": [
    "num = int(input(\"enter the number \"))\n",
    "if num>=0:\n",
    "    print(\"number is positive\")\n",
    "else :\n",
    "    print(\"numbet is not postive\")"
   ]
  },
  {
   "cell_type": "code",
   "execution_count": 115,
   "id": "37ff4cb0-37a8-4a19-9bd2-67280b0a0051",
   "metadata": {},
   "outputs": [
    {
     "name": "stdin",
     "output_type": "stream",
     "text": [
      "enter the number  67\n"
     ]
    },
    {
     "name": "stdout",
     "output_type": "stream",
     "text": [
      "numbet is odd\n"
     ]
    }
   ],
   "source": [
    "num=int(input(\"enter the number \"))\n",
    "if num%2==0:\n",
    "    print(\"number is even\")\n",
    "else :\n",
    "    print(\"numbet is odd\")"
   ]
  },
  {
   "cell_type": "code",
   "execution_count": 124,
   "id": "bbf361dd-1c2b-40fc-a359-424af639f9d7",
   "metadata": {},
   "outputs": [
    {
     "name": "stdin",
     "output_type": "stream",
     "text": [
      "enter the length  3\n",
      "enter the bredath 5\n",
      "enter the radius  6\n"
     ]
    },
    {
     "name": "stdout",
     "output_type": "stream",
     "text": [
      "Area of Reactangle 15\n",
      "Area of circle 113.03999999999999\n"
     ]
    }
   ],
   "source": [
    "length=int(input(\"enter the length \"))\n",
    "breadth=int(input(\"enter the bredath\"))\n",
    "radius=int(input(\"enter the radius \"))\n",
    "if length!=breadth:\n",
    "    print(\"Area of Reactangle\",length*breadth)\n",
    "if radius>0:\n",
    "    print(\"Area of circle\",3.14*radius*radius)\n",
    "else:\n",
    "    print(\"Area of Square\",length*breadth)"
   ]
  },
  {
   "cell_type": "code",
   "execution_count": 189,
   "id": "61210894-0442-4426-9e9e-2989db13cb88",
   "metadata": {},
   "outputs": [
    {
     "name": "stdin",
     "output_type": "stream",
     "text": [
      "enter the letter  d\n"
     ]
    },
    {
     "name": "stdout",
     "output_type": "stream",
     "text": [
      "is not vowel\n"
     ]
    }
   ],
   "source": [
    "letter=input(\"enter the letter \")\n",
    "if letter in \"aeiou\":\n",
    "    print(\"is vowel\")\n",
    "else:\n",
    "    print(\"is not vowel\")"
   ]
  },
  {
   "cell_type": "code",
   "execution_count": 184,
   "id": "2953e2db-a026-40b5-91de-4f8b972c29d0",
   "metadata": {},
   "outputs": [
    {
     "name": "stdin",
     "output_type": "stream",
     "text": [
      "enter the number  10000\n"
     ]
    },
    {
     "name": "stdout",
     "output_type": "stream",
     "text": [
      "number is 5 digit\n"
     ]
    }
   ],
   "source": [
    "num=int(input(\"enter the number \"))\n",
    "if 99>num>9:\n",
    "    print(\"number is 2 digit\")\n",
    "elif 999>num>99:\n",
    "    print(\"number is 3 digit\")\n",
    "elif 9999>num>999:\n",
    "    print(\"number is 4 digit\")\n",
    "elif 99999>num>9999:\n",
    "    print(\"number is 5 digit\")\n",
    "else :\n",
    "    print(\"numbet is single digit\")"
   ]
  },
  {
   "cell_type": "markdown",
   "id": "9085c1b4-acc2-40b8-9500-250f64973d36",
   "metadata": {},
   "source": [
    "LOOPS:"
   ]
  },
  {
   "cell_type": "code",
   "execution_count": 2,
   "id": "77bf94d8-c469-4fce-a285-0218ec2b6720",
   "metadata": {},
   "outputs": [
    {
     "name": "stdout",
     "output_type": "stream",
     "text": [
      "heramb heramb heramb heramb heramb heramb heramb heramb "
     ]
    }
   ],
   "source": [
    "#1) for loop\n",
    "\n",
    "for i in range (1,9,1):\n",
    "    print(\"heramb\",end=\" \")"
   ]
  },
  {
   "cell_type": "code",
   "execution_count": 9,
   "id": "65109587-c627-4ab6-983d-bbf45824c293",
   "metadata": {},
   "outputs": [
    {
     "name": "stdin",
     "output_type": "stream",
     "text": [
      "enter the number 5\n"
     ]
    },
    {
     "name": "stdout",
     "output_type": "stream",
     "text": [
      "5 * 1 = 5\n",
      "5 * 2 = 10\n",
      "5 * 3 = 15\n",
      "5 * 4 = 20\n",
      "5 * 5 = 25\n",
      "5 * 6 = 30\n",
      "5 * 7 = 35\n",
      "5 * 8 = 40\n",
      "5 * 9 = 45\n",
      "5 * 10 = 50\n"
     ]
    }
   ],
   "source": [
    "num=int(input(\"enter the number\"))\n",
    "for i in range(1,11,1):\n",
    "    print(num,\"*\",i,\"=\",num*i)"
   ]
  },
  {
   "cell_type": "code",
   "execution_count": 16,
   "id": "0fd6b928-da54-43c2-825c-d7c906474ecd",
   "metadata": {},
   "outputs": [
    {
     "name": "stdin",
     "output_type": "stream",
     "text": [
      "enter the number 20\n"
     ]
    },
    {
     "name": "stdout",
     "output_type": "stream",
     "text": [
      "20 * 1 = 20\n",
      "20 * 2 = 40\n",
      "20 * 3 = 60\n",
      "20 * 4 = 80\n",
      "20 * 5 = 100\n",
      "20 * 6 = 120\n",
      "20 * 7 = 140\n",
      "20 * 8 = 160\n",
      "20 * 9 = 180\n",
      "20 * 10 = 200\n"
     ]
    }
   ],
   "source": [
    "#2) while loop\n",
    "num=int(input(\"enter the number\"))\n",
    "i=1\n",
    "while i<11:\n",
    "    print(num,\"*\",i,\"=\",num*i)\n",
    "    i+=1"
   ]
  },
  {
   "cell_type": "code",
   "execution_count": 21,
   "id": "a97cd308-0903-45a7-9c59-ae756d33f738",
   "metadata": {},
   "outputs": [
    {
     "name": "stdin",
     "output_type": "stream",
     "text": [
      "enter number 1\n",
      "enter number 2\n"
     ]
    },
    {
     "name": "stdout",
     "output_type": "stream",
     "text": [
      "3\n"
     ]
    },
    {
     "name": "stdin",
     "output_type": "stream",
     "text": [
      "do you want to stop no\n",
      "enter number 2\n",
      "enter number 3\n"
     ]
    },
    {
     "name": "stdout",
     "output_type": "stream",
     "text": [
      "5\n"
     ]
    },
    {
     "name": "stdin",
     "output_type": "stream",
     "text": [
      "do you want to stop yes\n"
     ]
    }
   ],
   "source": [
    "#3)while True \n",
    "\n",
    "while True:\n",
    "    n1=int(input(\"enter number\"))\n",
    "    n2=int(input(\"enter number\"))\n",
    "    print(n1+n2)\n",
    "\n",
    "    repeat=input(\"do you want to stop\")\n",
    "    if repeat == \"yes\":\n",
    "        break\n",
    "    else:\n",
    "        continue\n"
   ]
  },
  {
   "cell_type": "code",
   "execution_count": 57,
   "id": "81f22e20-8637-48e7-a3e9-b82dbea06354",
   "metadata": {},
   "outputs": [
    {
     "name": "stdout",
     "output_type": "stream",
     "text": [
      "1 \n",
      "1 2 \n",
      "1 2 3 \n",
      "1 2 3 4 \n"
     ]
    }
   ],
   "source": [
    "#4)Nested loops\n",
    "\n",
    "for i in range(1,5):\n",
    "    for j in range(1,i+1):\n",
    "        print(j,end=\" \")\n",
    "    print()\n",
    "        \n",
    "     "
   ]
  },
  {
   "cell_type": "code",
   "execution_count": 66,
   "id": "7e38b5c2-f288-4a58-8926-3a95045c9547",
   "metadata": {},
   "outputs": [
    {
     "name": "stdout",
     "output_type": "stream",
     "text": [
      "6 12 18 24 30 36 42 48 54 60 66 72 78 84 90 96 "
     ]
    }
   ],
   "source": [
    "# conditional statements for loops\n",
    "\n",
    "for i in range(1,101,1):\n",
    "    if i%6 == 0 & i%12 == 0:\n",
    "        print(i,end=\" \")"
   ]
  },
  {
   "cell_type": "code",
   "execution_count": 89,
   "id": "02ab90ff-538b-4974-92ac-d61ac1d4fc70",
   "metadata": {},
   "outputs": [
    {
     "name": "stdout",
     "output_type": "stream",
     "text": [
      "0 2 4 6 8 10 12 14 16 18 20 22 24 26 28 30 32 34 36 38 40 42 44 46 48 "
     ]
    }
   ],
   "source": [
    "for i in range(0,51,2):\n",
    "    if i == 50:\n",
    "        break\n",
    "    else:\n",
    "        print(i,end=\" \")"
   ]
  },
  {
   "cell_type": "markdown",
   "id": "696a1b47-55ab-49e7-9158-e42d907cc097",
   "metadata": {},
   "source": [
    "PROBLEM SOLVING:"
   ]
  },
  {
   "cell_type": "code",
   "execution_count": 8,
   "id": "685d5a27-b0ca-4cdc-a44d-cf773d1a4378",
   "metadata": {},
   "outputs": [
    {
     "name": "stdout",
     "output_type": "stream",
     "text": [
      "sum of all even numbers upto 50  0\n",
      "sum of all even numbers upto 50  2\n",
      "sum of all even numbers upto 50  6\n",
      "sum of all even numbers upto 50  12\n",
      "sum of all even numbers upto 50  20\n",
      "sum of all even numbers upto 50  30\n",
      "sum of all even numbers upto 50  42\n",
      "sum of all even numbers upto 50  56\n",
      "sum of all even numbers upto 50  72\n",
      "sum of all even numbers upto 50  90\n",
      "sum of all even numbers upto 50  110\n",
      "sum of all even numbers upto 50  132\n",
      "sum of all even numbers upto 50  156\n",
      "sum of all even numbers upto 50  182\n",
      "sum of all even numbers upto 50  210\n",
      "sum of all even numbers upto 50  240\n",
      "sum of all even numbers upto 50  272\n",
      "sum of all even numbers upto 50  306\n",
      "sum of all even numbers upto 50  342\n",
      "sum of all even numbers upto 50  380\n",
      "sum of all even numbers upto 50  420\n",
      "sum of all even numbers upto 50  462\n",
      "sum of all even numbers upto 50  506\n",
      "sum of all even numbers upto 50  552\n",
      "sum of all even numbers upto 50  600\n",
      "sum of all even numbers upto 50  650\n"
     ]
    }
   ],
   "source": [
    "sum = 0\n",
    "for i in range(0,51):\n",
    "    if i%2==0 :\n",
    "        sum+=i\n",
    "        print(\"sum of all even numbers upto 50 \",sum)\n",
    "    "
   ]
  },
  {
   "cell_type": "code",
   "execution_count": 110,
   "id": "36da8e35-a8c4-44f2-861b-df9d254efb62",
   "metadata": {},
   "outputs": [
    {
     "name": "stdout",
     "output_type": "stream",
     "text": [
      "1 ** 2 = 1\n",
      "2 ** 2 = 4\n",
      "3 ** 2 = 9\n",
      "4 ** 2 = 16\n",
      "5 ** 2 = 25\n",
      "6 ** 2 = 36\n",
      "7 ** 2 = 49\n",
      "8 ** 2 = 64\n",
      "9 ** 2 = 81\n",
      "10 ** 2 = 100\n",
      "11 ** 2 = 121\n",
      "12 ** 2 = 144\n",
      "13 ** 2 = 169\n",
      "14 ** 2 = 196\n",
      "15 ** 2 = 225\n",
      "16 ** 2 = 256\n",
      "17 ** 2 = 289\n",
      "18 ** 2 = 324\n",
      "19 ** 2 = 361\n",
      "20 ** 2 = 400\n"
     ]
    }
   ],
   "source": [
    "\n",
    "for i in range(1,21,1):\n",
    "    if i<=20:\n",
    "        print(i,\"**\",2,\"=\",i*i)\n",
    "    else:\n",
    "        print(\"try again\")"
   ]
  },
  {
   "cell_type": "code",
   "execution_count": null,
   "id": "39c01fb5-96ac-475d-93f5-92df378c8eda",
   "metadata": {},
   "outputs": [],
   "source": [
    "sum =0\n",
    "n=0\n",
    "while i<=100:\n",
    "    if n%2 != 0:\n",
    "        sum+=n\n",
    "    n+=1\n",
    "    print(sum)"
   ]
  },
  {
   "cell_type": "code",
   "execution_count": 7,
   "id": "f913e6c6-a49f-4b47-a3bf-72b8aa20e0ee",
   "metadata": {},
   "outputs": [
    {
     "name": "stdout",
     "output_type": "stream",
     "text": [
      "24 48 72 96 "
     ]
    }
   ],
   "source": [
    "for i in range(1,101):\n",
    "    if i%8==0 and i%12==0:\n",
    "        print(i,end=\" \")"
   ]
  },
  {
   "cell_type": "code",
   "execution_count": 12,
   "id": "9d014730-71f0-4e84-9859-a27c75ef7dd0",
   "metadata": {},
   "outputs": [
    {
     "name": "stdout",
     "output_type": "stream",
     "text": [
      "0 1 1 4 4 9 9 16 16 25 25 36 36 49 49 64 64 81 81 100 100 "
     ]
    }
   ],
   "source": [
    "sum =0\n",
    "n=0\n",
    "while n<=20:\n",
    "    if n%2 != 0:\n",
    "        sum+=n\n",
    "    n+=1\n",
    "    print(sum,end=\" \")"
   ]
  },
  {
   "cell_type": "code",
   "execution_count": null,
   "id": "dce02d50-8322-4e03-86bb-7ee6f68967d1",
   "metadata": {},
   "outputs": [
    {
     "name": "stdin",
     "output_type": "stream",
     "text": [
      "enter customer name hda\n",
      "enter customer name hda\n"
     ]
    }
   ],
   "source": [
    "\n",
    "while True:\n",
    "    name = input(\"enter customer name\")\n",
    "    bill=0\n",
    "\n",
    "while True:\n",
    "        item = int(input(\"enter the number of items collected\"))\n",
    "        amount = int(input(\"enter the particualar amount\"))\n",
    "\n",
    "        repeat = input(\"enter your choice (yes,no):\")\n",
    "        if  repeat ==\" no\":\n",
    "            break\n",
    "        print(\"Total bill\",item*amount)\n",
    "        \n",
    "    "
   ]
  },
  {
   "cell_type": "markdown",
   "id": "20849bcb-be2b-454e-929a-773fdafc0a00",
   "metadata": {},
   "source": [
    "PATTERN DRAWING :"
   ]
  },
  {
   "cell_type": "code",
   "execution_count": 5,
   "id": "ae4070aa-0b93-4135-bec0-9574b5f64ea2",
   "metadata": {},
   "outputs": [
    {
     "name": "stdout",
     "output_type": "stream",
     "text": [
      "1 2 3 4 5 1\n",
      "1 2 3 4 5 2\n",
      "1 2 3 4 5 3\n",
      "1 2 3 4 5 4\n",
      "1 2 3 4 5 5\n"
     ]
    }
   ],
   "source": [
    "for i in range ( 1,6):\n",
    "    for j in range (1,6):\n",
    "        print(j,end =\" \")\n",
    "    print(i)"
   ]
  },
  {
   "cell_type": "code",
   "execution_count": null,
   "id": "83b0228c-c378-46d5-97eb-4ea022dba80a",
   "metadata": {},
   "outputs": [],
   "source": [
    "1\n",
    "12\n",
    "123\n",
    "1234\n",
    "12345"
   ]
  },
  {
   "cell_type": "code",
   "execution_count": 10,
   "id": "7728ef7e-e649-495e-b378-308402f02d3f",
   "metadata": {},
   "outputs": [
    {
     "name": "stdout",
     "output_type": "stream",
     "text": [
      "1 \n",
      "1 2 \n",
      "1 2 3 \n",
      "1 2 3 4 \n",
      "1 2 3 4 5 \n"
     ]
    }
   ],
   "source": [
    "for i in range (1,6):\n",
    "    for j in range (1,i+1):\n",
    "        print(j,end =\" \")\n",
    "    print()"
   ]
  },
  {
   "cell_type": "code",
   "execution_count": 19,
   "id": "5e072b26-090f-4984-823b-2bf89ca9da6b",
   "metadata": {},
   "outputs": [
    {
     "name": "stdout",
     "output_type": "stream",
     "text": [
      "* \n",
      "* * \n",
      "* * * \n",
      "* * * * \n",
      "* * * * * \n",
      "* * * * * * \n",
      "* * * * * * * \n",
      "* * * * * * * * \n",
      "* * * * * * * * * \n",
      "* * * * * * * * * * \n"
     ]
    }
   ],
   "source": [
    "for i in range ( 1,11):\n",
    "    for j in range (1,i+1):\n",
    "        print(\"*\",end =\" \")\n",
    "    print()"
   ]
  },
  {
   "cell_type": "code",
   "execution_count": null,
   "id": "d3931cbf-aded-444a-bd46-e1a8909708c1",
   "metadata": {},
   "outputs": [],
   "source": [
    "11111\n",
    "2222\n",
    "333\n",
    "44\n",
    "5"
   ]
  },
  {
   "cell_type": "code",
   "execution_count": 24,
   "id": "c1168701-5d3e-40ef-8ed3-eabd0a221b7a",
   "metadata": {},
   "outputs": [
    {
     "name": "stdout",
     "output_type": "stream",
     "text": [
      "1 1 1 1 1 \n",
      "2 2 2 2 \n",
      "3 3 3 \n",
      "4 4 \n",
      "5 \n"
     ]
    }
   ],
   "source": [
    "for i in range (1,6):\n",
    "    for j in range (6,i,-1):\n",
    "        print(i,end =\" \")\n",
    "    print()"
   ]
  },
  {
   "cell_type": "code",
   "execution_count": 31,
   "id": "14ffa698-9326-46e5-904b-203dae88593e",
   "metadata": {},
   "outputs": [
    {
     "data": {
      "text/plain": [
       "True"
      ]
     },
     "execution_count": 31,
     "metadata": {},
     "output_type": "execute_result"
    }
   ],
   "source": [
    "a = \"harry potter\"\n",
    "a.endswith('r')"
   ]
  },
  {
   "cell_type": "markdown",
   "id": "7ec4e32e-aa4d-4d7b-bc1f-35327f490671",
   "metadata": {},
   "source": [
    "FIBONACCI SERIES :"
   ]
  },
  {
   "cell_type": "markdown",
   "id": "f8efd02b-b7b5-474b-94e3-150b70de52ef",
   "metadata": {},
   "source": [
    "a = 0\n",
    "b = 1\n",
    "n=int(input(\"enter the number upto what index you want your fibonacci sseries\"))\n",
    "if n==1:\n",
    "     print(1)\n",
    "else:\n",
    "    print(a)\n",
    "    print(b)\n",
    "for i in range(2,n):\n",
    "    c = a+b\n",
    "    a = b\n",
    "    b = c\n",
    "    print(c)"
   ]
  },
  {
   "cell_type": "code",
   "execution_count": 20,
   "id": "ad92098e-3c5c-4894-9307-543185d2bd25",
   "metadata": {},
   "outputs": [],
   "source": [
    "# to find out prime numbers:"
   ]
  },
  {
   "cell_type": "code",
   "execution_count": 23,
   "id": "7402f81c-bd44-4e34-a320-e157a2b719d6",
   "metadata": {},
   "outputs": [
    {
     "name": "stdin",
     "output_type": "stream",
     "text": [
      "enter the number  3\n"
     ]
    },
    {
     "name": "stdout",
     "output_type": "stream",
     "text": [
      "number is prime number\n"
     ]
    }
   ],
   "source": [
    "num=int(input(\"enter the number \"))\n",
    "if num <=1:\n",
    "    print(\"number is not prime\")\n",
    "else:\n",
    "    for i in range (2,num):\n",
    "        if num%i == 0:\n",
    "            print(\"number is not a prime number:\")\n",
    "            break\n",
    "        else:\n",
    "            print(\"number is prime number\")"
   ]
  },
  {
   "cell_type": "markdown",
   "id": "1ad6e3d1-bad2-464e-8b91-e90f41778b90",
   "metadata": {},
   "source": [
    "palendrome numbers"
   ]
  },
  {
   "cell_type": "code",
   "execution_count": 3,
   "id": "c73aad50-52f7-4e67-bea0-6a55f26ca560",
   "metadata": {},
   "outputs": [
    {
     "name": "stdin",
     "output_type": "stream",
     "text": [
      "enter the number to check palendrome  326\n"
     ]
    },
    {
     "name": "stdout",
     "output_type": "stream",
     "text": [
      "not palendrome\n"
     ]
    }
   ],
   "source": [
    "num = int(input(\"enter the number to check palendrome \"))\n",
    "temp=num\n",
    "rev=0\n",
    "while num>0:\n",
    "    dig = num%10\n",
    "    rev = rev*10+dig\n",
    "    num = num//10\n",
    "if rev == temp:\n",
    "    print(\"palendrome\")\n",
    "else:\n",
    "    print(\"not palendrome\")"
   ]
  },
  {
   "cell_type": "markdown",
   "id": "9ce59bdf-e223-45c2-ac03-ee78e55eb36d",
   "metadata": {},
   "source": [
    "LIST"
   ]
  },
  {
   "cell_type": "raw",
   "id": "8c77ae5a-012b-48fb-acb7-fd177ee5b350",
   "metadata": {},
   "source": [
    "fruits = [\"apple\",\"banana\",1,2,3,4,5]\n",
    "print(fruits)"
   ]
  },
  {
   "cell_type": "code",
   "execution_count": 1,
   "id": "18a082ad-b293-436c-8e8c-4b3178ac9c5d",
   "metadata": {},
   "outputs": [
    {
     "name": "stdout",
     "output_type": "stream",
     "text": [
      "['apple', 'banana', 1, 2, 3, 4, 5]\n"
     ]
    }
   ],
   "source": [
    "fruits = [\"apple\",\"banana\",1,2,3,4,5]\n",
    "print(fruits)\n"
   ]
  },
  {
   "cell_type": "code",
   "execution_count": 2,
   "id": "258642a2-0e5c-4c73-9d60-0416f1d56aa1",
   "metadata": {},
   "outputs": [
    {
     "data": {
      "text/plain": [
       "list"
      ]
     },
     "execution_count": 2,
     "metadata": {},
     "output_type": "execute_result"
    }
   ],
   "source": [
    "type(fruits)"
   ]
  },
  {
   "cell_type": "code",
   "execution_count": 8,
   "id": "c7c33ee4-70a9-4c15-9bb7-ec19d83b5e02",
   "metadata": {},
   "outputs": [],
   "source": [
    "fruits.insert(3,8)"
   ]
  },
  {
   "cell_type": "code",
   "execution_count": 13,
   "id": "9b2dd14d-e437-49ca-9843-ba921ab6f9f3",
   "metadata": {},
   "outputs": [
    {
     "name": "stdout",
     "output_type": "stream",
     "text": [
      "iron man\n"
     ]
    }
   ],
   "source": [
    "a = [\"iron man\",\"hulk\",\"captain america\",\"thor\"]\n",
    "print(a[0])"
   ]
  },
  {
   "cell_type": "code",
   "execution_count": 14,
   "id": "41882f06-597c-460c-b293-bba6192251a2",
   "metadata": {},
   "outputs": [
    {
     "name": "stdout",
     "output_type": "stream",
     "text": [
      "hulk\n"
     ]
    }
   ],
   "source": [
    "a = [\"iron man\",\"hulk\",\"captain america\",\"thor\"]\n",
    "print(a[-3])\n"
   ]
  },
  {
   "cell_type": "markdown",
   "id": "926c0d3d-53aa-465f-9c57-15ffcbffa98d",
   "metadata": {},
   "source": [
    "slicing in list"
   ]
  },
  {
   "cell_type": "code",
   "execution_count": 27,
   "id": "eb60dd12-764d-4a33-8700-1af569a1115b",
   "metadata": {},
   "outputs": [
    {
     "name": "stdout",
     "output_type": "stream",
     "text": [
      "hulk\n",
      "['hulk', 'captain america']\n",
      "['iron man', 'captain america']\n",
      "['thor', 'iron man']\n",
      "['thor', 'captain america', 'hulk', 'iron man']\n",
      "['thor', 'captain america', 'hulk']\n"
     ]
    }
   ],
   "source": [
    "a = [\"iron man\",\"hulk\",\"captain america\",\"thor\"]\n",
    "print(a[1])\n",
    "print(a[1:3:])\n",
    "print(a[::2])\n",
    "print(a[-1::-3])\n",
    "print(a[::-1])\n",
    "print(a[-1:-4:-1])"
   ]
  },
  {
   "cell_type": "code",
   "execution_count": 38,
   "id": "88545c07-9027-45a0-a1f2-ab6dfc0cebcc",
   "metadata": {},
   "outputs": [
    {
     "name": "stdout",
     "output_type": "stream",
     "text": [
      "iron man,hulk,captain america,thor,"
     ]
    }
   ],
   "source": [
    "a = [\"iron man\",\"hulk\",\"captain america\",\"thor\"]\n",
    "for i in a:\n",
    "     print(i,end=\",\")"
   ]
  },
  {
   "cell_type": "code",
   "execution_count": 36,
   "id": "0d9dc13a-bd40-4aa2-a753-df4884dca6a8",
   "metadata": {},
   "outputs": [
    {
     "name": "stdout",
     "output_type": "stream",
     "text": [
      "iron man\n",
      "hulk\n",
      "captain america\n",
      "thor\n"
     ]
    }
   ],
   "source": [
    "a = [\"iron man\",\"hulk\",\"captain america\",\"thor\"]\n",
    "for i in range(len(a)):\n",
    "    print(a[i])"
   ]
  },
  {
   "cell_type": "code",
   "execution_count": 42,
   "id": "f7ee47d7-2dbf-4cc1-99ce-1bb59298b9d9",
   "metadata": {},
   "outputs": [
    {
     "name": "stdout",
     "output_type": "stream",
     "text": [
      "iron man\n",
      "hulk\n",
      "captain america\n",
      "thor\n"
     ]
    }
   ],
   "source": [
    "a = [\"iron man\",\"hulk\",\"captain america\",\"thor\"]\n",
    "i = 0\n",
    "while i<len(a):\n",
    "    print(a[i])\n",
    "    i+=1"
   ]
  },
  {
   "cell_type": "code",
   "execution_count": 43,
   "id": "10a82b90-a33c-4838-8d6f-5ce5f372deb7",
   "metadata": {},
   "outputs": [
    {
     "name": "stdout",
     "output_type": "stream",
     "text": [
      "iron man\n",
      "hulk\n",
      "captain america\n",
      "thor\n"
     ]
    },
    {
     "data": {
      "text/plain": [
       "[None, None, None, None]"
      ]
     },
     "execution_count": 43,
     "metadata": {},
     "output_type": "execute_result"
    }
   ],
   "source": [
    "a = [\"iron man\",\"hulk\",\"captain america\",\"thor\"]\n",
    "[print(i) for i in a]"
   ]
  },
  {
   "cell_type": "code",
   "execution_count": 44,
   "id": "8011181d-507a-44fd-bc19-693f08765c3a",
   "metadata": {},
   "outputs": [
    {
     "data": {
      "text/plain": [
       "4"
      ]
     },
     "execution_count": 44,
     "metadata": {},
     "output_type": "execute_result"
    }
   ],
   "source": [
    "len(a)"
   ]
  },
  {
   "cell_type": "code",
   "execution_count": 49,
   "id": "62d7d59d-6fe0-4037-b27a-53d608badbda",
   "metadata": {},
   "outputs": [
    {
     "data": {
      "text/plain": [
       "1"
      ]
     },
     "execution_count": 49,
     "metadata": {},
     "output_type": "execute_result"
    }
   ],
   "source": [
    "a.count(\"hulk\")"
   ]
  },
  {
   "cell_type": "code",
   "execution_count": 56,
   "id": "70b5f2df-166e-4222-a8cc-5b2a8a048540",
   "metadata": {},
   "outputs": [
    {
     "name": "stdout",
     "output_type": "stream",
     "text": [
      "['iron man', 'hulk', 'captain america', 'thor', 'spiderman', 'spiderman']\n"
     ]
    }
   ],
   "source": [
    "a.append(\"spiderman\")\n",
    "print(a)"
   ]
  },
  {
   "cell_type": "code",
   "execution_count": 57,
   "id": "719cf8c5-a0e6-4131-9aa1-22a2461d3dac",
   "metadata": {},
   "outputs": [
    {
     "name": "stdout",
     "output_type": "stream",
     "text": [
      "['iron man', 'viission', 'hulk', 'captain america', 'thor', 'spiderman', 'spiderman']\n"
     ]
    }
   ],
   "source": [
    "a.insert(1,\"viission\")\n",
    "print(a)"
   ]
  },
  {
   "cell_type": "code",
   "execution_count": 67,
   "id": "35198db0-21c8-45d5-b6f0-9092fd5036c7",
   "metadata": {},
   "outputs": [
    {
     "name": "stdout",
     "output_type": "stream",
     "text": [
      "['iron man', 'captain america', 'thor']\n"
     ]
    }
   ],
   "source": [
    "a = [\"iron man\",\"hulk\",\"captain america\",\"thor\"]\n",
    "a.remove(\"hulk\")\n",
    "print(a)"
   ]
  },
  {
   "cell_type": "code",
   "execution_count": 68,
   "id": "4e50da2d-b304-49c6-9247-dff0b8707fb4",
   "metadata": {},
   "outputs": [
    {
     "name": "stdout",
     "output_type": "stream",
     "text": [
      "['iron man', 'captain america']\n"
     ]
    }
   ],
   "source": [
    "a.remove(\"thor\")\n",
    "print(a)"
   ]
  },
  {
   "cell_type": "code",
   "execution_count": 73,
   "id": "7b9104d1-4647-45c5-8999-8a7097134a6b",
   "metadata": {},
   "outputs": [
    {
     "name": "stdout",
     "output_type": "stream",
     "text": [
      "['hulk', 'captain america', 'thor']\n"
     ]
    }
   ],
   "source": [
    "a = [\"iron man\",\"hulk\",\"captain america\",\"thor\"]\n",
    "a.pop(0)\n",
    "print(a)"
   ]
  },
  {
   "cell_type": "code",
   "execution_count": null,
   "id": "fe78fe98-c9ea-4cd8-bf3a-ac562ec6d035",
   "metadata": {},
   "outputs": [],
   "source": []
  }
 ],
 "metadata": {
  "kernelspec": {
   "display_name": "Python 3 (ipykernel)",
   "language": "python",
   "name": "python3"
  },
  "language_info": {
   "codemirror_mode": {
    "name": "ipython",
    "version": 3
   },
   "file_extension": ".py",
   "mimetype": "text/x-python",
   "name": "python",
   "nbconvert_exporter": "python",
   "pygments_lexer": "ipython3",
   "version": "3.10.2"
  }
 },
 "nbformat": 4,
 "nbformat_minor": 5
}
